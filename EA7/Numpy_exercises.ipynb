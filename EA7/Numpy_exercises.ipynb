{
 "cells": [
  {
   "cell_type": "markdown",
   "metadata": {},
   "source": [
    "# Numpy exercises"
   ]
  },
  {
   "cell_type": "code",
   "execution_count": 2,
   "metadata": {},
   "outputs": [],
   "source": [
    "import numpy as np\n",
    "\n",
    "import matplotlib.pyplot as plt\n",
    "%matplotlib inline"
   ]
  },
  {
   "cell_type": "markdown",
   "metadata": {},
   "source": [
    "# 1. Numpy basic exercises\n",
    "\n",
    "Use vectorization and avoid for loops in all exercises. Implement each exercise as a single function and write test cases for the function.\n",
    "\n",
    "## 1.1 Implement standardization for 2D arrays.\n",
    "\n",
    "\\begin{equation*}\n",
    "X_{std} = \\frac{X - \\mu}{\\sigma},\n",
    "\\end{equation*}\n",
    "\n",
    "where $\\mu$ is the mean and $\\rho$ is the standard deviation of the array elements."
   ]
  },
  {
   "cell_type": "code",
   "execution_count": 51,
   "metadata": {},
   "outputs": [
    {
     "data": {
      "text/plain": [
       "array([[-0.70710678, -0.70710678],\n",
       "       [ 1.41421356,  1.41421356],\n",
       "       [-0.70710678, -0.70710678]])"
      ]
     },
     "execution_count": 51,
     "metadata": {},
     "output_type": "execute_result"
    }
   ],
   "source": [
    "def standardize(X):\n",
    "    # return (X - X.mean()) / X.std()\n",
    "    return (X - X.mean(axis=0)) / X.std(axis=0)\n",
    "\n",
    "x_std = standardize(np.array([[1, 2], [2, 3], [1, 2]]))\n",
    "x_std"
   ]
  },
  {
   "cell_type": "code",
   "execution_count": 55,
   "metadata": {},
   "outputs": [
    {
     "name": "stdout",
     "output_type": "stream",
     "text": [
      "[[0 1 2]\n",
      " [3 4 5]]\n"
     ]
    },
    {
     "data": {
      "text/plain": [
       "array([3, 5, 7])"
      ]
     },
     "execution_count": 55,
     "metadata": {},
     "output_type": "execute_result"
    }
   ],
   "source": [
    "x = np.arange(6).reshape(2, -1)\n",
    "x.shape\n",
    "print(x)\n",
    "x.sum(axis=0)"
   ]
  },
  {
   "cell_type": "markdown",
   "metadata": {},
   "source": [
    "## 1.2 Implement normalization for 2D arrays.\n",
    "\n",
    "\\begin{equation*}\n",
    "X_{norm} = \\frac{X - X_{min}}{X_{max} - X_{min}}\n",
    "\\end{equation*}"
   ]
  },
  {
   "cell_type": "code",
   "execution_count": null,
   "metadata": {},
   "outputs": [],
   "source": []
  },
  {
   "cell_type": "markdown",
   "metadata": {},
   "source": [
    "## 1.3 Implement the softmax function.\n",
    "$$\n",
    "x_i \\mapsto \\frac{\\exp(x_i)}{\\sum_{j=1}^n \\exp(x_j)}\n",
    "$$"
   ]
  },
  {
   "cell_type": "code",
   "execution_count": 68,
   "metadata": {},
   "outputs": [
    {
     "data": {
      "text/plain": [
       "array([[0.0320586 , 0.08714432, 0.23688282, 0.64391426],\n",
       "       [0.0320586 , 0.08714432, 0.23688282, 0.64391426],\n",
       "       [0.0320586 , 0.08714432, 0.23688282, 0.64391426]])"
      ]
     },
     "execution_count": 68,
     "metadata": {},
     "output_type": "execute_result"
    }
   ],
   "source": [
    "X = np.arange(12).reshape(3, -1)\n",
    "\n",
    "np.exp(X) / np.exp(X).sum(axis=1)[:, None]  #  # / np.exp(X).sum()\n"
   ]
  },
  {
   "cell_type": "markdown",
   "metadata": {},
   "source": [
    "# 2. Vectorization\n",
    "\n",
    "Rewrite the following examples into vectorized solutions (no for loops and list comprehensions).\n",
    "\n",
    "## 2.1 Row-wise Euclidean norm\n",
    "\n",
    "Write a function which has one parameter, a 2D array and it returns a vector of row-wise Euclidean norms of the input. Use `numpy` operations and vectorization, avoid `for` loops. The solution below is a _bad_ solution."
   ]
  },
  {
   "cell_type": "code",
   "execution_count": null,
   "metadata": {},
   "outputs": [],
   "source": [
    "def rowwise_norm(X):\n",
    "    def my_dot(x, y):\n",
    "        result = 0.0\n",
    "        for i in range(len(x)):\n",
    "            result += x[i] * y[i]\n",
    "        return result\n",
    "    return np.array([np.sqrt(my_dot(x, x)) for x in X])\n",
    "\n",
    "X = np.arange(5)[:, None]*np.ones((5, 3));\n",
    "print(X)\n",
    "print(rowwise_norm(X))\n",
    "print(rowwise_norm([[1], [-1], [1], [-1]]))"
   ]
  },
  {
   "cell_type": "markdown",
   "metadata": {},
   "source": [
    "## 2.2 Chessboard\n",
    "\n",
    "Write a function which has one parameter, a positive integer $n$, and returns an $n\\times n$ array of $\\pm1$ values like a chessboard: $M_{i,j} = (-1)^{i+j}$."
   ]
  },
  {
   "cell_type": "code",
   "execution_count": null,
   "metadata": {},
   "outputs": [],
   "source": [
    "def chessboard(n):\n",
    "    return np.array([[(-1)**(i + j) for j in range(n)] for i in range(n)])\n",
    "\n",
    "chessboard(5)"
   ]
  },
  {
   "cell_type": "code",
   "execution_count": null,
   "metadata": {},
   "outputs": [],
   "source": []
  },
  {
   "cell_type": "markdown",
   "metadata": {},
   "source": [
    "# 3. Broadcast quiz\n",
    "\n",
    "Do the following operations work and if so, what is the shape of the resulting array?\n",
    "* Try to figure it out before evaluating the cell."
   ]
  },
  {
   "cell_type": "code",
   "execution_count": null,
   "metadata": {},
   "outputs": [],
   "source": [
    "np.ones(3) + np.ones((3,3))"
   ]
  },
  {
   "cell_type": "code",
   "execution_count": null,
   "metadata": {},
   "outputs": [],
   "source": [
    "np.ones(3) + np.ones((4, 3))"
   ]
  },
  {
   "cell_type": "code",
   "execution_count": null,
   "metadata": {},
   "outputs": [],
   "source": [
    "np.ones(3) + np.ones((3, 4))"
   ]
  },
  {
   "cell_type": "code",
   "execution_count": null,
   "metadata": {},
   "outputs": [],
   "source": [
    "np.ones(3)[:, None] + np.ones((3, 4))"
   ]
  },
  {
   "cell_type": "code",
   "execution_count": null,
   "metadata": {},
   "outputs": [],
   "source": [
    "np.ones((1, 2, 3)) + np.ones((1, 3))[:, None, :]"
   ]
  },
  {
   "cell_type": "code",
   "execution_count": null,
   "metadata": {},
   "outputs": [],
   "source": [
    "np.ones((1, 2, 3)) + np.ones((1, 3))"
   ]
  },
  {
   "cell_type": "markdown",
   "metadata": {},
   "source": [
    "Can you broadcast these arrays such that they can be added? What will be the shape of the result?"
   ]
  },
  {
   "cell_type": "code",
   "execution_count": null,
   "metadata": {},
   "outputs": [],
   "source": [
    "np.ones((4,20,3)) + np.ones((5, 3))"
   ]
  },
  {
   "cell_type": "code",
   "execution_count": null,
   "metadata": {},
   "outputs": [],
   "source": []
  },
  {
   "cell_type": "markdown",
   "metadata": {},
   "source": [
    "# 4. Numpy advanced exercises\n",
    "\n",
    "## 4.1 Blockmatrix\n",
    "\n",
    "Write a function named __`blockmatrix`__ that produces the following (block) matrix:\n",
    "$$\n",
    "\\left(\\begin{array}{ccc|ccc}\n",
    " 1 & & 0& 0 & \\cdots & 0 \\\\\n",
    " & \\ddots & & \\vdots & & \\vdots \\\\\n",
    "  0& & 1 & 0 & \\cdots & 0 \\\\\\hline\n",
    "  0 & \\cdots & 0 & 1 & \\cdots & 1 \\\\\n",
    "  \\vdots & & \\vdots & \\vdots & & \\vdots \\\\\n",
    "  0 & \\cdots & 0 & 1 & \\cdots & 1\n",
    "\\end{array}\\right)\n",
    "$$\n",
    "The function should have 2 positive integer parameters, the size of the first square block and the size of the last square block. The other two blocks should have the appropriate size (may be rectangle).\n",
    "The first block is an indentity matrix, the last is a constant $1$ matrix.\n",
    "Return the resulted matrix.\n",
    "\n",
    "Use matrix initializers: `ones`, `zeros`, `eye` and concatenation."
   ]
  },
  {
   "cell_type": "code",
   "execution_count": null,
   "metadata": {},
   "outputs": [],
   "source": []
  },
  {
   "cell_type": "markdown",
   "metadata": {},
   "source": [
    "## 4.2 Blockmatrix from arbitrary square matrices\n",
    "\n",
    "Write a blockmatrix function that takes any number of square matrices and returns a blockmatrix with these matrices in the diagonal."
   ]
  },
  {
   "cell_type": "code",
   "execution_count": null,
   "metadata": {},
   "outputs": [],
   "source": []
  },
  {
   "cell_type": "markdown",
   "metadata": {},
   "source": [
    "## 4.3 Derivative\n",
    "\n",
    "Write a function which numerically derivates a $\\mathbb{R}\\mapsto\\mathbb{R}$ function. Use the forward finite difference.\n",
    "\n",
    "The input is a 1D array of function values, and optionally a 1D vector of abscissa values. If not provided then the abscissa values are unit steps.\n",
    "\n",
    "The result is a 1D array with the length of one less than the input array.\n",
    "\n",
    "Use `numpy` operations instead of `for` loop in contrast to the solution below."
   ]
  },
  {
   "cell_type": "code",
   "execution_count": null,
   "metadata": {},
   "outputs": [],
   "source": [
    "def derivate(f, x=None):\n",
    "    if x is None:\n",
    "        x = np.arange(len(f))\n",
    "    return np.array([(f[i+1] - f[i]) / (x[i+1] - x[i]) for i in range(len(x) - 1)])\n",
    "\n",
    "derivate(np.arange(10)**2)"
   ]
  },
  {
   "cell_type": "code",
   "execution_count": null,
   "metadata": {},
   "outputs": [],
   "source": [
    "x = np.arange(10)\n",
    "plt.plot(x, x**2)\n",
    "plt.plot(x[:-1], derivate(x**2, x))"
   ]
  },
  {
   "cell_type": "markdown",
   "metadata": {},
   "source": [
    "## 4.4 Birthday problem\n",
    "\n",
    "In probability theory, the birthday problem or birthday paradox concerns the probability that, in a set of n randomly chosen people, some pair of them will have the same birthday. By the pigeonhole principle, the probability reaches 100% when the number of people reaches 367 (since there are only 366 possible birthdays, including February 29). However, 99.9% probability is reached with just 70 people, and 50% probability with 23 people. These conclusions are based on the assumption that each day of the year (excluding February 29) is equally probable for a birthday. -- [Wikipedia](https://en.wikipedia.org/wiki/Birthday_problem)\n",
    "\n",
    "Write a function that simulates this problem for variable $n$. Your function should take $n$ and an experiment count as its parameter and sample experiment count times and return the ratio of \"birthday collisions\" (how many times there were at least two birthdays on the same day).\n",
    "\n",
    "Run it for different $n$ values with at least 1000 experiment count and plot the results. You can add a grid and check for the 50% probability with:\n",
    "\n",
    "    fig, ax = plt.subplots()\n",
    "    ax.plot(x)\n",
    "    ax.grid()"
   ]
  },
  {
   "cell_type": "code",
   "execution_count": null,
   "metadata": {},
   "outputs": [],
   "source": []
  },
  {
   "cell_type": "markdown",
   "metadata": {},
   "source": [
    "## 4.5 Horner's method\n",
    "\n",
    "Implement the [Horner's method](https://en.wikipedia.org/wiki/Horner%27s_method#Description_of_the_algorithm) for evaluating polynomials. The first input is a 1D array of numbers, the coefficients, from the constant coefficient to the highest order coefficent. The second input is the variable $x$ to subsitute. The function should work for all type of variables: numbers, arrays; the output should be the same type array as the input, containing the elementwise polynomial values."
   ]
  },
  {
   "cell_type": "code",
   "execution_count": null,
   "metadata": {},
   "outputs": [],
   "source": [
    "def horner(C, x):\n",
    "    y = numpy.zeros_like(x)\n",
    "    # YOUR CODE COMES HERE\n",
    "    y\n",
    "    return y\n",
    "\n",
    "C = [2, 0, 1] # 2 + x^2\n",
    "print(horner(C, 3))\n",
    "print(horner(C, [3, 3]))\n",
    "print(horner(C, numpy.arange(9).reshape((3,3))))"
   ]
  }
 ],
 "metadata": {
  "kernelspec": {
   "display_name": "Python 3",
   "language": "python",
   "name": "python3"
  },
  "language_info": {
   "codemirror_mode": {
    "name": "ipython",
    "version": 3
   },
   "file_extension": ".py",
   "mimetype": "text/x-python",
   "name": "python",
   "nbconvert_exporter": "python",
   "pygments_lexer": "ipython3",
   "version": "3.6.5"
  }
 },
 "nbformat": 4,
 "nbformat_minor": 2
}
