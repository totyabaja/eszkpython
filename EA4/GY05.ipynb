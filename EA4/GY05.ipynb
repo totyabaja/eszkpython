{
 "cells": [
  {
   "cell_type": "markdown",
   "metadata": {},
   "source": [
    "# Python - 4. gyakorlat\n",
    "## Condition, While and For loops\n",
    "\n",
    "#### Tóth Zoltán\n",
    "#### 2018.10.03. 19:15-20:30"
   ]
  },
  {
   "cell_type": "markdown",
   "metadata": {},
   "source": [
    "### 1. Kérjen be két számot, és írja ki hogy milyen reláció írható fel közéjük."
   ]
  },
  {
   "cell_type": "code",
   "execution_count": null,
   "metadata": {},
   "outputs": [],
   "source": []
  },
  {
   "cell_type": "markdown",
   "metadata": {},
   "source": [
    "### 2. Írd át a következő kódot egy egy soros kifejezésre:\n",
    "\n",
    "a = 5; b= 3\n",
    "\n",
    "if a > b:\n",
    "\n",
    "    print(a, \"nagyobb mint\", b)\n",
    "    \n",
    "else:\n",
    "\n",
    "    print(a, \"kisebb mint\", b)"
   ]
  },
  {
   "cell_type": "code",
   "execution_count": null,
   "metadata": {},
   "outputs": [],
   "source": []
  },
  {
   "cell_type": "markdown",
   "metadata": {},
   "source": [
    "### 3. Írjon olyan elágazást, ami szortírozza az értékeket az alapján, hogy ezekben a tartományokban van-e: (-inf, 3], (3, 7], (7, 10], (10, inf)"
   ]
  },
  {
   "cell_type": "code",
   "execution_count": null,
   "metadata": {},
   "outputs": [],
   "source": []
  },
  {
   "cell_type": "markdown",
   "metadata": {},
   "source": [
    "### 4. Írjon egy ciklust, ami egész számokat kér be, és a kimeneten kiírja, hogy a legutóbb bekért szám kisebb vagy nagyobb-e mint a korábbi."
   ]
  },
  {
   "cell_type": "code",
   "execution_count": null,
   "metadata": {},
   "outputs": [],
   "source": []
  },
  {
   "cell_type": "markdown",
   "metadata": {},
   "source": [
    "### 5. Kérjen be egy szöveget és írja ki, hogy hány magánhangzó van benne!"
   ]
  },
  {
   "cell_type": "code",
   "execution_count": null,
   "metadata": {},
   "outputs": [],
   "source": []
  },
  {
   "cell_type": "markdown",
   "metadata": {},
   "source": [
    "### 6. Készíts egy anagramma gépet!\n",
    "Indul a görög aludni."
   ]
  },
  {
   "cell_type": "code",
   "execution_count": null,
   "metadata": {},
   "outputs": [],
   "source": []
  },
  {
   "cell_type": "markdown",
   "metadata": {},
   "source": [
    "### 7. Készítsen egy szakaszkirajzoló programot. Példa alább:\n",
    "Mekkora legyen a szakasz?\n",
    "\n",
    "4\n",
    "\n",
    "+----+"
   ]
  },
  {
   "cell_type": "code",
   "execution_count": null,
   "metadata": {},
   "outputs": [],
   "source": []
  },
  {
   "cell_type": "markdown",
   "metadata": {},
   "source": [
    "### 8. Rajzolj négyzetet!\n",
    "\n",
    "+--+\n",
    "\n",
    "|..|\n",
    "\n",
    "|..|\n",
    "\n",
    "+----+"
   ]
  },
  {
   "cell_type": "code",
   "execution_count": null,
   "metadata": {},
   "outputs": [],
   "source": []
  },
  {
   "cell_type": "markdown",
   "metadata": {},
   "source": [
    "### 9. feladat Rajzolsz háromszöget!\n",
    ".  o\n",
    "  \n",
    ". ooo\n",
    " \n",
    ".ooooo"
   ]
  },
  {
   "cell_type": "code",
   "execution_count": null,
   "metadata": {},
   "outputs": [],
   "source": []
  }
 ],
 "metadata": {
  "kernelspec": {
   "display_name": "Python 3",
   "language": "python",
   "name": "python3"
  },
  "language_info": {
   "codemirror_mode": {
    "name": "ipython",
    "version": 3
   },
   "file_extension": ".py",
   "mimetype": "text/x-python",
   "name": "python",
   "nbconvert_exporter": "python",
   "pygments_lexer": "ipython3",
   "version": "3.6.5"
  }
 },
 "nbformat": 4,
 "nbformat_minor": 2
}
