{
 "cells": [
  {
   "cell_type": "markdown",
   "metadata": {},
   "source": [
    "# Object oriented programming"
   ]
  },
  {
   "cell_type": "markdown",
   "metadata": {},
   "source": [
    "## 1. Basic exercises\n",
    "\n",
    "### 1.1  Define a class named A with a contructor that takes a single parameter and stores it in an attribute named `value`. Add a `print_value` method to the class.\n",
    "\n",
    "Instantiate the class and call the `print_value` method."
   ]
  },
  {
   "cell_type": "code",
   "execution_count": null,
   "metadata": {},
   "outputs": [],
   "source": []
  },
  {
   "cell_type": "markdown",
   "metadata": {},
   "source": [
    "### 1.2 Redefine the class's __init__ so that it can be instantiated without a parameter. If it is called without a parameter, value should be 42."
   ]
  },
  {
   "cell_type": "code",
   "execution_count": null,
   "metadata": {},
   "outputs": [],
   "source": []
  },
  {
   "cell_type": "markdown",
   "metadata": {},
   "source": [
    "### 1.3 Define a class named B, whose __init__ takes two parameters and stores one in a public attribute and the other in a private attribute named this_is_public and __this_is_private respectively.\n",
    "\n",
    "Check the class's __dict__ attribute and find out the mangled name of the private attribute."
   ]
  },
  {
   "cell_type": "code",
   "execution_count": null,
   "metadata": {},
   "outputs": [],
   "source": []
  },
  {
   "cell_type": "code",
   "execution_count": null,
   "metadata": {},
   "outputs": [],
   "source": [
    "b = B(1, 2)\n",
    "assert b.this_is_public == 1\n",
    "try:\n",
    "    b.__this_is_private\n",
    "    print(\"This should not happen.\")\n",
    "except AttributeError:\n",
    "    print(\"Failed to access private attribute, this is good :)\")"
   ]
  },
  {
   "cell_type": "markdown",
   "metadata": {},
   "source": [
    "## 2. Inheritance\n",
    "\n",
    "### 2.1 Guess the output without running the cell."
   ]
  },
  {
   "cell_type": "code",
   "execution_count": null,
   "metadata": {},
   "outputs": [],
   "source": [
    "class A(object): pass\n",
    "class B(A): pass\n",
    "class C(A): pass\n",
    "class D(B): pass\n",
    "\n",
    "a = A()\n",
    "b = B()\n",
    "c = C()\n",
    "d = D()\n",
    "\n",
    "print(isinstance(a, object))\n",
    "print(isinstance(b, object))\n",
    "print(isinstance(a, B))\n",
    "print(isinstance(b, A))\n",
    "print(isinstance(d, A))"
   ]
  },
  {
   "cell_type": "code",
   "execution_count": null,
   "metadata": {},
   "outputs": [],
   "source": [
    "print(issubclass(C, object))\n",
    "print(issubclass(D, B))\n",
    "print(issubclass(B, D))\n",
    "print(issubclass(B, B))"
   ]
  },
  {
   "cell_type": "markdown",
   "metadata": {},
   "source": [
    "### 2.2 Create a Cat, a Dog, a Fish and a Eagle class.\n",
    "\n",
    "The animals have the following attributes:\n",
    "\n",
    "1. cats, dogs and eagles can make a sound (this should be a make_sound function that prints the animals sound),\n",
    "2. all animals have a name, an age and a number_of_legs attribute,\n",
    "3. cats and dogs have a fur_color attribute. They can be instantiated with a single color or a list or tuple of colors.\n",
    "\n",
    "Use inheritance and avoid repeating code. Use default values in the constructors."
   ]
  },
  {
   "cell_type": "code",
   "execution_count": null,
   "metadata": {},
   "outputs": [],
   "source": []
  },
  {
   "cell_type": "code",
   "execution_count": null,
   "metadata": {},
   "outputs": [],
   "source": [
    "cat = Cat(\"Fluffy\", age=3, fur=\"white\")\n",
    "dog = Dog(\"Cherry\", age=1, fur=(\"white\", \"brown\", \"black\"))\n",
    "fish = Fish(\"King\")\n",
    "eagle = Eagle(\"Bruce\", age=2)\n",
    "\n",
    "animals = [cat, dog, fish, eagle]"
   ]
  },
  {
   "cell_type": "markdown",
   "metadata": {},
   "source": [
    "Iterate over the list animals and call make_sound for each animal. Print either the sound the animal makes or \"XY does not make a sound\" if the animal does not make a sound (fish). This is an example of duck typing."
   ]
  },
  {
   "cell_type": "code",
   "execution_count": null,
   "metadata": {},
   "outputs": [],
   "source": []
  },
  {
   "cell_type": "markdown",
   "metadata": {},
   "source": [
    "## 3. `RationalNumber` class\n",
    "\n",
    "Write a class that represents a rational number. A number is rational if it is can be expressed as the quotient of two integers (p and q). Define the operators seen in the tests below.\n",
    "\n",
    "Make sure that p and q are always relative primes (you can use `math.gcd`)."
   ]
  },
  {
   "cell_type": "code",
   "execution_count": null,
   "metadata": {},
   "outputs": [],
   "source": [
    "from math import gcd\n",
    "\n",
    "\n",
    "class RationalNumber(object):\n",
    "    # TODO\n",
    "    \n",
    "        \n",
    "r = RationalNumber(43, 2)\n",
    "assert r + r == RationalNumber(43)  # q = 1 in this case\n",
    "\n",
    "assert r * 2 == r + r\n",
    "\n",
    "r1 = RationalNumber(3, 2)\n",
    "r2 = RationalNumber(4, 3)\n",
    "\n",
    "assert r1 * r2 == RationalNumber(12, 6)\n",
    "assert r1 / r2 == RationalNumber(9, 8)\n",
    "\n",
    "assert r1 == RationalNumber(6, 4)"
   ]
  },
  {
   "cell_type": "markdown",
   "metadata": {},
   "source": [
    "### RationalNumber advanced exercises\n",
    "\n",
    "Make the class usable as a dictionary key."
   ]
  },
  {
   "cell_type": "code",
   "execution_count": null,
   "metadata": {},
   "outputs": [],
   "source": [
    "r1 = RationalNumber(3)\n",
    "r2 = RationalNumber(3, 1)\n",
    "r3 = RationalNumber(3, 2)\n",
    "\n",
    "d = {r1: 1, r2: 2, r3: 12}\n",
    "assert(len(d) == 2)"
   ]
  },
  {
   "cell_type": "markdown",
   "metadata": {},
   "source": [
    "`p` and `q` can only be integers. Raise a `RationalNumberValueError` if someone tries to set them to anything else."
   ]
  },
  {
   "cell_type": "code",
   "execution_count": null,
   "metadata": {},
   "outputs": [],
   "source": [
    "try:\n",
    "    r1.p = 3.4\n",
    "except RationalNumberValueError:\n",
    "    print(\"This should happen\")\n",
    "else:\n",
    "    print(\"This shouldn't happen\")\n",
    "    \n",
    "try:\n",
    "    r1.q = 3.4\n",
    "except ValueError:\n",
    "    print(\"This should happen\")\n",
    "else:\n",
    "    print(\"This shouldn't happen\")"
   ]
  },
  {
   "cell_type": "markdown",
   "metadata": {},
   "source": [
    "Rational numbers may be negative. Make sure that `q` is never negative."
   ]
  },
  {
   "cell_type": "code",
   "execution_count": null,
   "metadata": {},
   "outputs": [],
   "source": [
    "r = RationalNumber(3, -2)\n",
    "assert r.p == -3 and r.q == 2\n",
    "assert abs(r) == RationalNumber(3, 2)\n",
    "assert abs(r) == 1.5"
   ]
  },
  {
   "cell_type": "markdown",
   "metadata": {},
   "source": [
    "Add a `from_str` factory method which parses the following formats:"
   ]
  },
  {
   "cell_type": "code",
   "execution_count": null,
   "metadata": {},
   "outputs": [],
   "source": [
    "r = RationalNumber(-3, 2)\n",
    "\n",
    "assert RationalNumber.from_str(\"-3/2\") == r\n",
    "assert RationalNumber.from_str(\"3/-2\") == r\n",
    "assert RationalNumber.from_str(\"3 / -2\") == r"
   ]
  }
 ],
 "metadata": {
  "kernelspec": {
   "display_name": "Python 3",
   "language": "python",
   "name": "python3"
  },
  "language_info": {
   "codemirror_mode": {
    "name": "ipython",
    "version": 3
   },
   "file_extension": ".py",
   "mimetype": "text/x-python",
   "name": "python",
   "nbconvert_exporter": "python",
   "pygments_lexer": "ipython3",
   "version": "3.6.5"
  }
 },
 "nbformat": 4,
 "nbformat_minor": 2
}
