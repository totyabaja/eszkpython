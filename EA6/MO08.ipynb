{
 "cells": [
  {
   "cell_type": "markdown",
   "metadata": {},
   "source": [
    "# Decorators - exercises\n",
    "\n",
    "## 1. Function factories\n",
    "\n",
    "### 1.1 Linear polynomial\n",
    "\n",
    "Write a function factory that creates linear polynomials. A linear or first degree polynomial is a function that has two unbound parameters ($a$ and $b$) and bound variable ($x$):\n",
    "\n",
    "\\begin{equation*}\n",
    "f(x) = ax + b.\n",
    "\\end{equation*}\n",
    "\n",
    "Your function factory should return $f(x)$ for fixed $a$ and $b$ values."
   ]
  },
  {
   "cell_type": "code",
   "execution_count": 1,
   "metadata": {},
   "outputs": [],
   "source": [
    "def create_linear_polynomial(a, b):\n",
    "    \n",
    "    def fx(x):\n",
    "        return a * x + b\n",
    "    \n",
    "    return fx\n",
    "\n",
    "f1 = create_linear_polynomial(1, 0)\n",
    "f2 = create_linear_polynomial(2, -1)\n",
    "\n",
    "assert f1(3) == 3 # 1*3+0 = 3\n",
    "assert f2(5) == 9 # 2*5-1 = 9"
   ]
  },
  {
   "cell_type": "markdown",
   "metadata": {},
   "source": [
    "### 1.2 Higher order polynomial\n",
    "\n",
    "Create a polynomial factory for arbitrary degree polynomials:\n",
    "\n",
    "\\begin{equation*}\n",
    "f(x) = a_n  x^n + a_{n-1} x^{n-1} + \\dots + a_1 x + a_0.\n",
    "\\end{equation*}\n",
    "\n",
    "An n-th order polynomial has $n+1$ coefficients including $a_0$."
   ]
  },
  {
   "cell_type": "code",
   "execution_count": 2,
   "metadata": {},
   "outputs": [],
   "source": [
    "def create_polynomial(*a):\n",
    "    \n",
    "    def fx(x):\n",
    "        s = a[0]\n",
    "        for a_i in a[1:]:\n",
    "            s = x * s  + a_i\n",
    "        return s\n",
    "    \n",
    "    return fx\n",
    "\n",
    "f1 = create_polynomial(1, 1, 1)\n",
    "assert f1(2) == 7  # 1*x*x + 1*x + 1 = 7, if x = 2\n",
    "\n",
    "f2 = create_polynomial(3)\n",
    "assert f2(10) == 3 and f2(-100) == 3  # constant function\n",
    "\n",
    "f3 = create_polynomial(3, 2, 1, -10)\n",
    "assert f3(2) == 24  # 3*x*x*x + 2*x*x + 1*x - 10 = 24 + 8 + 2 - 10 = 24, if x=2"
   ]
  },
  {
   "cell_type": "markdown",
   "metadata": {},
   "source": [
    "## 2. Decorators without parameters\n",
    "\n",
    "### 2. 1 Timer decorator\n",
    "\n",
    "Write a timer decorator that prints how many seconds the wrapped function takes to finish. Make sure that the original return value is returned by the wrapped function and function metadata is kept.\n",
    "\n",
    "Create both the function (lowercase `timer`) and the class (uppercase `Timer`) version of the decorator.\n",
    "\n",
    "#### function version"
   ]
  },
  {
   "cell_type": "code",
   "execution_count": 3,
   "metadata": {},
   "outputs": [
    {
     "name": "stdout",
     "output_type": "stream",
     "text": [
      "5\n",
      "fast_func ran for 0.00063 seconds\n",
      "slow_func ran for 0.275148 seconds\n",
      "func_with_return ran for 3e-06 seconds\n"
     ]
    }
   ],
   "source": [
    "import functools\n",
    "from datetime import datetime\n",
    "\n",
    "def timer(func):\n",
    "    \n",
    "    @functools.wraps(func)\n",
    "    def wrapped(*args, **kwargs):\n",
    "        start = datetime.now()\n",
    "        ret = func(*args, **kwargs)\n",
    "        duration = (datetime.now() - start).total_seconds()\n",
    "        print(\"{} ran for {} seconds\".format(func.__name__, duration))\n",
    "        return ret\n",
    "    \n",
    "    return wrapped\n",
    "    \n",
    "\n",
    "@timer\n",
    "def fast_func(x, y):\n",
    "    \"\"\"Fast function\"\"\"\n",
    "    for _ in range(1000):\n",
    "        pass\n",
    "    print(x + y)\n",
    "    \n",
    "@timer\n",
    "def slow_func():\n",
    "    for _ in range(10000000):\n",
    "        pass\n",
    "    \n",
    "@timer\n",
    "def func_with_return(x):\n",
    "    return 2 * x\n",
    "\n",
    "fast_func(2, 3)\n",
    "slow_func()\n",
    "\n",
    "# metadata should be kept intact\n",
    "assert fast_func.__doc__ == \"Fast function\"\n",
    "\n",
    "# check return value\n",
    "assert func_with_return(3) == 6"
   ]
  },
  {
   "cell_type": "markdown",
   "metadata": {},
   "source": [
    "#### class version"
   ]
  },
  {
   "cell_type": "code",
   "execution_count": 4,
   "metadata": {},
   "outputs": [
    {
     "name": "stdout",
     "output_type": "stream",
     "text": [
      "5\n",
      "fast_func ran for 0.00012 seconds\n",
      "slow_func ran for 0.304604 seconds\n",
      "func_with_return ran for 4e-06 seconds\n"
     ]
    }
   ],
   "source": [
    "class Timer:\n",
    "    def __init__(self, func):\n",
    "        self.func = func\n",
    "        functools.wraps(func)(self)\n",
    "        \n",
    "    def __call__(self, *args, **kwargs):\n",
    "        start = datetime.now()\n",
    "        ret = self.func(*args, **kwargs)\n",
    "        duration = (datetime.now() - start).total_seconds()\n",
    "        print(\"{} ran for {} seconds\".format(self.func.__name__, duration))\n",
    "        return ret\n",
    "    \n",
    "\n",
    "@Timer\n",
    "def fast_func(x, y):\n",
    "    \"\"\"Fast function\"\"\"\n",
    "    for _ in range(1000):\n",
    "        pass\n",
    "    print(x + y)\n",
    "    \n",
    "@Timer\n",
    "def slow_func():\n",
    "    for _ in range(10000000):\n",
    "        pass\n",
    "    \n",
    "@Timer\n",
    "def func_with_return(x):\n",
    "    return 2 * x\n",
    "\n",
    "fast_func(2, 3)\n",
    "slow_func()\n",
    "\n",
    "# metadata should be kept intact\n",
    "assert fast_func.__doc__ == \"Fast function\"\n",
    "\n",
    "# check return value\n",
    "assert func_with_return(3) == 6"
   ]
  },
  {
   "cell_type": "markdown",
   "metadata": {},
   "source": [
    "### 2.2 `<html>` wrapper\n",
    "\n",
    "Create a decorator that wraps a function's output between `<html>` and `</html>`. Write a function and a class version as well. You can assume that the wrapped function returns a string.\n",
    "\n",
    "\n",
    "#### function version"
   ]
  },
  {
   "cell_type": "code",
   "execution_count": 5,
   "metadata": {},
   "outputs": [],
   "source": [
    "def html_wrapper(func):\n",
    "    \n",
    "    @functools.wraps(func)\n",
    "    def wrapped(*args, **kwargs):\n",
    "        ret = func(*args, **kwargs)\n",
    "        return \"<html>{}</html>\".format(ret)\n",
    "    \n",
    "    return wrapped\n",
    "\n",
    "@html_wrapper\n",
    "def greeter(name):\n",
    "    return \"Hello {}\".format(name)\n",
    "\n",
    "assert greeter(\"John\") == \"<html>Hello John</html>\"\n",
    "assert greeter(\"Peter\") == \"<html>Hello Peter</html>\""
   ]
  },
  {
   "cell_type": "markdown",
   "metadata": {},
   "source": [
    "#### class version"
   ]
  },
  {
   "cell_type": "code",
   "execution_count": 6,
   "metadata": {},
   "outputs": [],
   "source": [
    "class HtmlWrapper:\n",
    "    def __init__(self, func):\n",
    "        self.func = func\n",
    "        functools.wraps(func)(self)\n",
    "        \n",
    "    def __call__(self, *args, **kwargs):\n",
    "        ret = self.func(*args, **kwargs)\n",
    "        return \"<html>{}</html>\".format(ret)\n",
    "\n",
    "@HtmlWrapper\n",
    "def greeter(name):\n",
    "    return \"Hello {}\".format(name)\n",
    "\n",
    "assert greeter(\"John\") == \"<html>Hello John</html>\"\n",
    "assert greeter(\"Peter\") == \"<html>Hello Peter</html>\""
   ]
  },
  {
   "cell_type": "markdown",
   "metadata": {},
   "source": [
    "## 3. Decorators with parameters\n",
    "\n",
    "You only need to write a function version for the following decorators.\n",
    "\n",
    "### 3.1 Create and arbitrary tag adder.\n",
    "\n",
    "The decorator should take the `tag` as its only parameter and wrap the fuction's output between `<tag>` and `</tag>`."
   ]
  },
  {
   "cell_type": "code",
   "execution_count": 7,
   "metadata": {},
   "outputs": [
    {
     "name": "stdout",
     "output_type": "stream",
     "text": [
      "<span>2018-07-25 15:19:01.559688</span>\n"
     ]
    }
   ],
   "source": [
    "def tag_wrapper(tag):\n",
    "    def actual_decorator(func):\n",
    "        @functools.wraps(func)\n",
    "        def wrapped(*args, **kwargs):\n",
    "            ret = func(*args, **kwargs)\n",
    "            return \"<{0}>{1}</{0}>\".format(tag, ret)\n",
    "        return wrapped\n",
    "    return actual_decorator\n",
    "\n",
    "@tag_wrapper(\"h1\")\n",
    "def greeter(name):\n",
    "    return \"Hello {}\".format(name)\n",
    "\n",
    "@tag_wrapper(\"span\")\n",
    "def current_time():\n",
    "    return \"{}\".format(datetime.now())\n",
    "\n",
    "assert greeter(\"John\") == \"<h1>Hello John</h1>\"\n",
    "\n",
    "ct = current_time()\n",
    "print(ct)\n",
    "\n",
    "assert ct.startswith(\"<span>\") and ct.endswith(\"</span>\")"
   ]
  },
  {
   "cell_type": "markdown",
   "metadata": {},
   "source": [
    "### 3.2 Parameter type checker\n",
    "\n",
    "Create a decorator that takes a type as its parameter and checks every argument of the wrapped function including keyword arguments. If any of them are not instances of that type, it should raise a `TypeError`."
   ]
  },
  {
   "cell_type": "code",
   "execution_count": 8,
   "metadata": {},
   "outputs": [
    {
     "name": "stdout",
     "output_type": "stream",
     "text": [
      "I am 1 old\n"
     ]
    }
   ],
   "source": [
    "def check_type(typ):\n",
    "    def actual_decorator(func):\n",
    "        @functools.wraps(func)\n",
    "        def wrapped(*args, **kwargs):\n",
    "            for i, arg in enumerate(args):\n",
    "                if not isinstance(arg, typ):\n",
    "                    raise TypeError(\"All arguments must be type {}. Positional argument {} is of type {}\".format(\n",
    "                    typ.__name__, i, type(arg)))\n",
    "            for kw, arg in kwargs.items():\n",
    "                if not isinstance(arg, typ):\n",
    "                    raise TypeError(\"All arguments must be type {}. Keyword argument {} is of type {}\".format(\n",
    "                    typ.__name__, k, type(arg)))\n",
    "            return func(*args, **kwargs)\n",
    "        return wrapped\n",
    "    return actual_decorator\n",
    "                    \n",
    "\n",
    "@check_type(int)\n",
    "def age_printer(age):\n",
    "    print(\"I am {} old\".format(age))\n",
    "    \n",
    "@check_type(int)\n",
    "def double_age(age):\n",
    "    return age * 2\n",
    "\n",
    "@check_type(int)\n",
    "def compare_age(age1, age2=0):\n",
    "    return age1 > age2\n",
    "    \n",
    "age_printer(1)\n",
    "\n",
    "assert double_age(12) == 24\n",
    "\n",
    "try:\n",
    "    double_age(\"12\")\n",
    "except TypeError:  # a TypeError should be raised since the function's parameter is not an integer\n",
    "    pass\n",
    "\n",
    "assert compare_age(age2=12, age1=11) == False\n",
    "\n",
    "try:\n",
    "    compare_age(20, \"abc\")\n",
    "except TypeError:\n",
    "    pass"
   ]
  },
  {
   "cell_type": "markdown",
   "metadata": {},
   "source": [
    "### 3.3 Only one exception type\n",
    "\n",
    "Write a decorator that makes sure that a function only raises one type of error. If it would raise another exception, raise this type instead."
   ]
  },
  {
   "cell_type": "code",
   "execution_count": 9,
   "metadata": {},
   "outputs": [
    {
     "name": "stdout",
     "output_type": "stream",
     "text": [
      "TypeError raised\n",
      "ValueError raised\n"
     ]
    }
   ],
   "source": [
    "def only_one_exception(exc_type):\n",
    "    def actual_decorator(func):\n",
    "        @functools.wraps(func)\n",
    "        def wrapped(*args, **kwargs):\n",
    "            try:\n",
    "                ret = func(*args, **kwargs)\n",
    "            except exc_type:\n",
    "                raise\n",
    "            except Exception as e:\n",
    "                raise exc_type()\n",
    "            return ret\n",
    "        return wrapped\n",
    "    return actual_decorator\n",
    "\n",
    "def increment_number(x):\n",
    "    return x + 1  # would raise TypeError if not a number\n",
    "\n",
    "try:\n",
    "    increment_number(\"12\")\n",
    "except TypeError:\n",
    "    print(\"TypeError raised\")\n",
    "    \n",
    "@only_one_exception(ValueError)\n",
    "def increment_number(x):\n",
    "    return x + 1  # would raise TypeError if not a number\n",
    "\n",
    "try:\n",
    "    increment_number(\"12\")\n",
    "except ValueError:\n",
    "    print(\"ValueError raised\")"
   ]
  },
  {
   "cell_type": "markdown",
   "metadata": {},
   "source": [
    "### \\*3.4 Argument validator\n",
    "\n",
    "Create a decorator that takes an arbitrary callable as its parameter and wraps function with one positional parameter. The decorator should 'validate' the parameter with its callable. You can assume that the callable raises a `ValueError` if the parameter is 'invalid', you don't need to return boolean values or raise additional exceptions."
   ]
  },
  {
   "cell_type": "code",
   "execution_count": 10,
   "metadata": {},
   "outputs": [
    {
     "name": "stdout",
     "output_type": "stream",
     "text": [
      "Your age is 12\n",
      "Your age is 12\n",
      "Your age is 12\n",
      "ValueError raised, this should happen\n"
     ]
    }
   ],
   "source": [
    "def check_param(validator):\n",
    "    def actual_decorator(func):\n",
    "        @functools.wraps(func)\n",
    "        def wrapped(arg):\n",
    "            validator(arg)\n",
    "            return func(arg)\n",
    "        return wrapped\n",
    "    return actual_decorator\n",
    "\n",
    "def positive_int_convertible(n):\n",
    "    n = int(n)  # raises ValueError if not possible\n",
    "    if n <= 0:\n",
    "        raise ValueError(\"Not a positive integer\")\n",
    "        \n",
    "\n",
    "@check_param(positive_int_convertible)\n",
    "def age_printer(age):\n",
    "    print(\"Your age is {}\".format(int(age)))\n",
    "        \n",
    "age_printer(12)\n",
    "age_printer(12.0)\n",
    "age_printer(\"12\")\n",
    "\n",
    "try:\n",
    "    age_printer(\"abc\")\n",
    "except ValueError:\n",
    "    print(\"ValueError raised, this should happen\")"
   ]
  },
  {
   "cell_type": "markdown",
   "metadata": {},
   "source": [
    "### \\*3.5 Check all arguments"
   ]
  },
  {
   "cell_type": "code",
   "execution_count": 11,
   "metadata": {},
   "outputs": [],
   "source": [
    "import string\n",
    "\n",
    "def check_all_arguments(*args_checker, **kwargs_checker):\n",
    "    def actual_decorator(func):\n",
    "        @functools.wraps(func)\n",
    "        def wrapped(*args, **kwargs):\n",
    "            for i, arg in enumerate(args):\n",
    "                args_checker[i](arg)\n",
    "            for kw, arg in kwargs.items():\n",
    "                kwargs_checker[kw](arg)\n",
    "            return func(*args, **kwargs)\n",
    "        return wrapped\n",
    "    return actual_decorator\n",
    "\n",
    "def positive_int_convertible(n):\n",
    "    n = int(n)  # raises ValueError if not possible\n",
    "    if n <= 0:\n",
    "        raise ValueError(\"Not a positive integer\")\n",
    "        \n",
    "def hungarian_name_checker(name):\n",
    "    if not name.istitle():\n",
    "        raise ValueError(\"Not a name: {}\".format(name))\n",
    "    non_ascii = set(list(\"áéíóöőúüű\")) \n",
    "    letters = non_ascii | set(string.ascii_lowercase) | set(' ')\n",
    "    name_letters = set(list(name.lower()))\n",
    "    if name_letters - letters:\n",
    "        raise ValueError(\"Name contains non-Hungarian letters: {}\".format(name))\n",
    "        \n",
    "\n",
    "@check_all_arguments(hungarian_name_checker, positive_int_convertible, height=positive_int_convertible)\n",
    "def serialize_hun_person_data(name, age, height=160):\n",
    "    return \"Name: {}, age: {}, height: {}\".format(name, age, height)\n",
    "    \n",
    "assert serialize_hun_person_data(\"Peter Kovacs\", \"25\", height=180) == \"Name: Peter Kovacs, age: 25, height: 180\"\n",
    "\n",
    "icelandic_name = \"Aðalheiður\"\n",
    "try:\n",
    "    serialize_hun_person_data(icelandic_name, \"25\", height=180)\n",
    "except ValueError:\n",
    "    pass\n",
    "\n",
    "kazakh_name = \"Нұрасыл\"\n",
    "try:\n",
    "    serialize_hun_person_data(kazakh_name, 25)\n",
    "except ValueError:\n",
    "    pass"
   ]
  },
  {
   "cell_type": "markdown",
   "metadata": {},
   "source": [
    "Some exercises are borrowed from various sources:\n",
    "\n",
    "- https://www.python-course.eu/python3_decorators.php\n",
    "- https://github.com/manahl/PythonTrainingExercises"
   ]
  }
 ],
 "metadata": {
  "kernelspec": {
   "display_name": "Python 3",
   "language": "python",
   "name": "python3"
  },
  "language_info": {
   "codemirror_mode": {
    "name": "ipython",
    "version": 3
   },
   "file_extension": ".py",
   "mimetype": "text/x-python",
   "name": "python",
   "nbconvert_exporter": "python",
   "pygments_lexer": "ipython3",
   "version": "3.6.6"
  }
 },
 "nbformat": 4,
 "nbformat_minor": 2
}
